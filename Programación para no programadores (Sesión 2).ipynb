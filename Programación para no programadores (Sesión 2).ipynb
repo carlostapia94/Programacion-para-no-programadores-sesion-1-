{
 "cells": [
  {
   "cell_type": "markdown",
   "id": "7eae96ce",
   "metadata": {},
   "source": [
    "<h1 style=\"font-size:5rem; color: orange\">Variables y tipos de datos</h1>"
   ]
  },
  {
   "cell_type": "markdown",
   "id": "8668433b",
   "metadata": {},
   "source": [
    "# Tipos de variables"
   ]
  },
  {
   "cell_type": "code",
   "execution_count": null,
   "id": "3fbf3d6c",
   "metadata": {},
   "outputs": [],
   "source": [
    "#Enteros (int): Representan números enteros.\n",
    "\n",
    "#Flotantes (float): Representan números decimales.\n",
    "\n",
    "#Cadenas de texto (str): Representan secuencias de caracteres.\n",
    "\n",
    "#Booleanos (bool): Representan valores de verdad, verdadero o falso"
   ]
  },
  {
   "cell_type": "markdown",
   "id": "d3223187",
   "metadata": {},
   "source": [
    "# Cadenas de texto"
   ]
  },
  {
   "cell_type": "code",
   "execution_count": null,
   "id": "b6b48229",
   "metadata": {},
   "outputs": [],
   "source": [
    "nombre_pizzeria = \"\"\n",
    "telefono_pizzeria = \"\"\n",
    "\n",
    "# Variables para el cliente\n",
    "#nombre_cliente = input(\"Ingrese su nombre: \")\n",
    "#telefono_cliente = input(\"Ingrese su número de teléfono: \")\n",
    "#pedido = input(\"¿Qué desea ordenar?\")\n"
   ]
  },
  {
   "cell_type": "code",
   "execution_count": null,
   "id": "94d7fe52",
   "metadata": {},
   "outputs": [],
   "source": [
    "#print(\"Gracias!, \", nombre_cliente, \" .\", \"En unos momentos le mandaremos su pedido: \", pedido, \"Gracias por pedir en \", nombre_pizzeria)"
   ]
  },
  {
   "cell_type": "markdown",
   "id": "3584cb0d",
   "metadata": {},
   "source": [
    "# Variables enteros"
   ]
  },
  {
   "cell_type": "code",
   "execution_count": 26,
   "id": "edd18a06",
   "metadata": {},
   "outputs": [
    {
     "name": "stdout",
     "output_type": "stream",
     "text": [
      "Cantidad de pizzas en el pedido:  3\n"
     ]
    }
   ],
   "source": [
    "cantidad_pizzas = 3\n",
    "print(\"Cantidad de pizzas en el pedido: \", cantidad_pizzas)\n",
    "\n"
   ]
  },
  {
   "cell_type": "markdown",
   "id": "cff7c192",
   "metadata": {},
   "source": [
    "# Variables flotantes"
   ]
  },
  {
   "cell_type": "code",
   "execution_count": null,
   "id": "8ad1da8c",
   "metadata": {},
   "outputs": [],
   "source": [
    "#Las variables flotantes son las cosas que sí podemos dividir\n",
    "\n",
    "# Ejemplo de variable flotante para el precio de una pizza\n",
    "precio_pizza = 12.99\n",
    "print(f\"Precio de la pizza: ${precio_pizza}\")\n",
    "\n"
   ]
  },
  {
   "cell_type": "markdown",
   "id": "a6c5cfb6",
   "metadata": {},
   "source": [
    "# Variables booleanas"
   ]
  },
  {
   "cell_type": "code",
   "execution_count": null,
   "id": "482cb6b4",
   "metadata": {},
   "outputs": [],
   "source": [
    "#Las variables booleanes solo representan valores de verdad o falso\n",
    "#A diferencia de las otras variables, estas solo son de una escala absoluta de solo dos respuestas o valores\n",
    "\n",
    "pizza_en_existencia = True\n",
    "print(f\"¿La pizza está en existencia? {pizza_en_existencia}\")\n",
    "\n"
   ]
  },
  {
   "cell_type": "markdown",
   "id": "48cf7167",
   "metadata": {},
   "source": [
    "<h1 style=\"font-size:5rem; color: orange\">Funciones</h1>"
   ]
  },
  {
   "cell_type": "code",
   "execution_count": null,
   "id": "2bcb409e",
   "metadata": {},
   "outputs": [],
   "source": [
    "# En Python, una función se define utilizando la palabra clave def, seguida del nombre de la función y \n",
    "# paréntesis que pueden contener parámetros. La estructura general es la siguiente:"
   ]
  },
  {
   "cell_type": "code",
   "execution_count": 23,
   "id": "5a2e4111",
   "metadata": {},
   "outputs": [],
   "source": [
    "def nombre_de_la_funcion(parametro1, parametro2):\n",
    "    # Cuerpo de la función\n",
    "    # Operaciones\n",
    "    # Procesos\n",
    "    # Puede contener declaraciones, cálculos, y más\n",
    "\n",
    "    return resultado  # Opcional, si la función devuelve algo\n"
   ]
  },
  {
   "cell_type": "code",
   "execution_count": null,
   "id": "2db5a8ec",
   "metadata": {},
   "outputs": [],
   "source": [
    "# Parámetros y Argumentos:\n",
    "#Parámetros: Son nombres de variables utilizados en la definición de la función. \n",
    "# Son como marcadores de posición para los valores que la función espera recibir.\n",
    "\n",
    "#Argumentos: Son los valores reales que se pasan a la función cuando se llama. \n",
    "#Estos valores se asignan a los parámetros durante la ejecución de la función."
   ]
  },
  {
   "cell_type": "code",
   "execution_count": null,
   "id": "d2f92647",
   "metadata": {},
   "outputs": [],
   "source": []
  },
  {
   "cell_type": "code",
   "execution_count": null,
   "id": "3ec429c2",
   "metadata": {},
   "outputs": [],
   "source": []
  },
  {
   "cell_type": "code",
   "execution_count": 30,
   "id": "377a74d3",
   "metadata": {},
   "outputs": [],
   "source": [
    "#Variables globale en una función\n",
    "\n",
    "variable_global = \"Soy global\"  # Variable global\n"
   ]
  },
  {
   "cell_type": "code",
   "execution_count": null,
   "id": "e3de55c3",
   "metadata": {},
   "outputs": [],
   "source": []
  },
  {
   "cell_type": "code",
   "execution_count": null,
   "id": "056e9750",
   "metadata": {},
   "outputs": [],
   "source": []
  },
  {
   "cell_type": "code",
   "execution_count": null,
   "id": "11feeb60",
   "metadata": {},
   "outputs": [],
   "source": []
  },
  {
   "cell_type": "code",
   "execution_count": null,
   "id": "d6cc4ee3",
   "metadata": {},
   "outputs": [],
   "source": []
  },
  {
   "cell_type": "markdown",
   "id": "d64888a3",
   "metadata": {},
   "source": [
    "# En la pizzería se encuentran muchos roles de trabajo. Cada trabajador tiene una función específica y una serie de tareas a realizar. Describe la función del trabajador en Ventas que se encarga de calcular costos, descuentos, impuestos y pedidos"
   ]
  },
  {
   "cell_type": "code",
   "execution_count": null,
   "id": "b5490988",
   "metadata": {},
   "outputs": [],
   "source": []
  },
  {
   "cell_type": "code",
   "execution_count": null,
   "id": "96c9223e",
   "metadata": {},
   "outputs": [],
   "source": []
  },
  {
   "cell_type": "code",
   "execution_count": null,
   "id": "abbd6b47",
   "metadata": {},
   "outputs": [],
   "source": []
  },
  {
   "cell_type": "code",
   "execution_count": null,
   "id": "7558ec4b",
   "metadata": {},
   "outputs": [],
   "source": []
  },
  {
   "cell_type": "code",
   "execution_count": null,
   "id": "8f70298f",
   "metadata": {},
   "outputs": [],
   "source": []
  }
 ],
 "metadata": {
  "kernelspec": {
   "display_name": "Python 3 (ipykernel)",
   "language": "python",
   "name": "python3"
  },
  "language_info": {
   "codemirror_mode": {
    "name": "ipython",
    "version": 3
   },
   "file_extension": ".py",
   "mimetype": "text/x-python",
   "name": "python",
   "nbconvert_exporter": "python",
   "pygments_lexer": "ipython3",
   "version": "3.11.5"
  }
 },
 "nbformat": 4,
 "nbformat_minor": 5
}
